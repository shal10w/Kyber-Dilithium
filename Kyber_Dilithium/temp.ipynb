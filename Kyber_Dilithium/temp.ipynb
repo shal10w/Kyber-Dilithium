{
 "cells": [
  {
   "cell_type": "code",
   "execution_count": 9,
   "metadata": {},
   "outputs": [
    {
     "name": "stdout",
     "output_type": "stream",
     "text": [
      "The cython extension is already loaded. To reload it, use:\n",
      "  %reload_ext cython\n"
     ]
    }
   ],
   "source": [
    "%load_ext cython"
   ]
  },
  {
   "cell_type": "code",
   "execution_count": 4,
   "metadata": {},
   "outputs": [
    {
     "ename": "SyntaxError",
     "evalue": "invalid syntax (<ipython-input-4-0ba885bd334b>, line 3)",
     "output_type": "error",
     "traceback": [
      "\u001b[0;36m  Cell \u001b[0;32mIn[4], line 3\u001b[0;36m\u001b[0m\n\u001b[0;31m    from libcpp cimport bool\u001b[0m\n\u001b[0m                ^\u001b[0m\n\u001b[0;31mSyntaxError\u001b[0m\u001b[0;31m:\u001b[0m invalid syntax\n"
     ]
    }
   ],
   "source": [
    "\n",
    "\n"
   ]
  },
  {
   "cell_type": "code",
   "execution_count": 10,
   "metadata": {},
   "outputs": [
    {
     "name": "stderr",
     "output_type": "stream",
     "text": [
      "Content of stderr:\n",
      "/home/shallow/.cache/ipython/cython/_cython_magic_3b75e2c7cff4ff3766b51c67084a7a36b35303b8.c:1214:10: fatal error: ios: No such file or directory\n",
      " 1214 | #include \"ios\"\n",
      "      |          ^~~~~\n",
      "compilation terminated."
     ]
    }
   ],
   "source": [
    "%%cython --annotate\n",
    "\n",
    "from hashlib import *\n",
    "from libcpp cimport bool\n",
    "from libcpp.vector cimport vector\n",
    "from numpy cimport int16_t\n",
    "cdef list gen_vec(bytes seed):\n",
    "    cdef int pos , reslen, magic_num\n",
    "    cdef int16_t temp1 , temp2\n",
    "    cdef list res\n",
    "    shake = shake_128(seed)\n",
    "    res = []\n",
    "    reslen = 0\n",
    "    pos = 0\n",
    "    magic_num = 504 # num(kyber_n * 3 / 2) * error_rate(1<<12 / 3329) * block_size(168)\n",
    "    buf = shake.digest(504) \n",
    "    while reslen < 256:\n",
    "        if pos == magic_num:\n",
    "            buf = shake.digest(504+168)\n",
    "        temp1 = ((buf[pos+0] >> 0) | (buf[pos+1] << 8)) & 0xFFF\n",
    "        temp2 = ((buf[pos+1] >> 4) | (buf[pos+2] << 4)) & 0xFFF\n",
    "        pos += 3\n",
    "        if temp1 < 3329:\n",
    "            res.append(temp1)\n",
    "            reslen+=1\n",
    "        if temp2 < 3329:\n",
    "            res.append(temp2)\n",
    "            reslen += 1\n",
    "    return res\n"
   ]
  }
 ],
 "metadata": {
  "kernelspec": {
   "display_name": "Python 3",
   "language": "python",
   "name": "python3"
  },
  "language_info": {
   "codemirror_mode": {
    "name": "ipython",
    "version": 3
   },
   "file_extension": ".py",
   "mimetype": "text/x-python",
   "name": "python",
   "nbconvert_exporter": "python",
   "pygments_lexer": "ipython3",
   "version": "3.9.2"
  }
 },
 "nbformat": 4,
 "nbformat_minor": 2
}
